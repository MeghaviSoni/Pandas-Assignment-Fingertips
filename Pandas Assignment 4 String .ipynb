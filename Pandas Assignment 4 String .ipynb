{
 "cells": [
  {
   "cell_type": "code",
   "execution_count": 1,
   "id": "22081b7b-9fdf-492e-aa3f-c50c79b1a6be",
   "metadata": {},
   "outputs": [],
   "source": [
    "import pandas as pd "
   ]
  },
  {
   "cell_type": "code",
   "execution_count": 91,
   "id": "f622065b-c2c2-4559-8e26-100d6ae9b8de",
   "metadata": {},
   "outputs": [],
   "source": [
    "data = pd.read_csv(r\"C:\\Users\\Meghavi Soni\\Downloads\\Python Pandas Assignment 5 String16920072501.csv\",encoding='latin1')"
   ]
  },
  {
   "cell_type": "code",
   "execution_count": 93,
   "id": "a5dfe214-84ea-4c61-a7b7-7cd740b7035d",
   "metadata": {},
   "outputs": [
    {
     "data": {
      "text/html": [
       "<div>\n",
       "<style scoped>\n",
       "    .dataframe tbody tr th:only-of-type {\n",
       "        vertical-align: middle;\n",
       "    }\n",
       "\n",
       "    .dataframe tbody tr th {\n",
       "        vertical-align: top;\n",
       "    }\n",
       "\n",
       "    .dataframe thead th {\n",
       "        text-align: right;\n",
       "    }\n",
       "</style>\n",
       "<table border=\"1\" class=\"dataframe\">\n",
       "  <thead>\n",
       "    <tr style=\"text-align: right;\">\n",
       "      <th></th>\n",
       "      <th>FF</th>\n",
       "      <th>Title</th>\n",
       "      <th>DIR</th>\n",
       "    </tr>\n",
       "  </thead>\n",
       "  <tbody>\n",
       "    <tr>\n",
       "      <th>0</th>\n",
       "      <td>2005</td>\n",
       "      <td>1990: Bronx Warriors</td>\n",
       "      <td>Enzo Castellari</td>\n",
       "    </tr>\n",
       "    <tr>\n",
       "      <th>1</th>\n",
       "      <td>2005</td>\n",
       "      <td>Creep</td>\n",
       "      <td>Christopher Smith</td>\n",
       "    </tr>\n",
       "    <tr>\n",
       "      <th>2</th>\n",
       "      <td>2005</td>\n",
       "      <td>Feast</td>\n",
       "      <td>John Gulager</td>\n",
       "    </tr>\n",
       "    <tr>\n",
       "      <th>3</th>\n",
       "      <td>2005</td>\n",
       "      <td>G.O.R.A.</td>\n",
       "      <td>ÌÐmer Faruk Sorak</td>\n",
       "    </tr>\n",
       "    <tr>\n",
       "      <th>4</th>\n",
       "      <td>2005</td>\n",
       "      <td>Hakugei: Legend of the Moby Dick</td>\n",
       "      <td>Osamu Dezaki</td>\n",
       "    </tr>\n",
       "    <tr>\n",
       "      <th>...</th>\n",
       "      <td>...</td>\n",
       "      <td>...</td>\n",
       "      <td>...</td>\n",
       "    </tr>\n",
       "    <tr>\n",
       "      <th>904</th>\n",
       "      <td>2017</td>\n",
       "      <td>See You Up There</td>\n",
       "      <td>Albert Dupontel</td>\n",
       "    </tr>\n",
       "    <tr>\n",
       "      <th>905</th>\n",
       "      <td>2017</td>\n",
       "      <td>Tabula Rasa</td>\n",
       "      <td>Jonas Govaerts &amp; Kaat Beels / Malin-Sarah Gozin</td>\n",
       "    </tr>\n",
       "    <tr>\n",
       "      <th>906</th>\n",
       "      <td>2017</td>\n",
       "      <td>Wizard</td>\n",
       "      <td>Kagiso Lediga</td>\n",
       "    </tr>\n",
       "    <tr>\n",
       "      <th>907</th>\n",
       "      <td>2017</td>\n",
       "      <td>Death of Stalin, The</td>\n",
       "      <td>Armando Iannucci</td>\n",
       "    </tr>\n",
       "    <tr>\n",
       "      <th>908</th>\n",
       "      <td>2017</td>\n",
       "      <td>Take It Out in Trade</td>\n",
       "      <td>Edward D. Wood Jr.</td>\n",
       "    </tr>\n",
       "  </tbody>\n",
       "</table>\n",
       "<p>909 rows × 3 columns</p>\n",
       "</div>"
      ],
      "text/plain": [
       "       FF                             Title  \\\n",
       "0    2005              1990: Bronx Warriors   \n",
       "1    2005                             Creep   \n",
       "2    2005                             Feast   \n",
       "3    2005                          G.O.R.A.   \n",
       "4    2005  Hakugei: Legend of the Moby Dick   \n",
       "..    ...                               ...   \n",
       "904  2017                  See You Up There   \n",
       "905  2017                       Tabula Rasa   \n",
       "906  2017                            Wizard   \n",
       "907  2017              Death of Stalin, The   \n",
       "908  2017              Take It Out in Trade   \n",
       "\n",
       "                                                 DIR  \n",
       "0                                    Enzo Castellari  \n",
       "1                                  Christopher Smith  \n",
       "2                                       John Gulager  \n",
       "3                                  ÌÐmer Faruk Sorak  \n",
       "4                                       Osamu Dezaki  \n",
       "..                                               ...  \n",
       "904                                  Albert Dupontel  \n",
       "905  Jonas Govaerts & Kaat Beels / Malin-Sarah Gozin  \n",
       "906                                    Kagiso Lediga  \n",
       "907                                 Armando Iannucci  \n",
       "908                               Edward D. Wood Jr.  \n",
       "\n",
       "[909 rows x 3 columns]"
      ]
     },
     "execution_count": 93,
     "metadata": {},
     "output_type": "execute_result"
    }
   ],
   "source": [
    "data"
   ]
  },
  {
   "cell_type": "markdown",
   "id": "e9d44bce-e5c9-4ff0-b43b-54152b466fc9",
   "metadata": {},
   "source": [
    "# What are the datatypes of the column of the dataset?"
   ]
  },
  {
   "cell_type": "code",
   "execution_count": 10,
   "id": "36de1a23-661e-4f70-9c4d-d415221ca6b5",
   "metadata": {},
   "outputs": [
    {
     "data": {
      "text/plain": [
       "FF        int64\n",
       "Title    object\n",
       "DIR      object\n",
       "dtype: object"
      ]
     },
     "execution_count": 10,
     "metadata": {},
     "output_type": "execute_result"
    }
   ],
   "source": [
    "data.dtypes"
   ]
  },
  {
   "cell_type": "markdown",
   "id": "07acdae3-7f6c-468c-9e1d-93e0e38afed8",
   "metadata": {},
   "source": [
    "# Get the Basic Statistics of Dataset."
   ]
  },
  {
   "cell_type": "code",
   "execution_count": 13,
   "id": "0d3a8fab-1f4f-451c-979b-2a5787f42c9f",
   "metadata": {},
   "outputs": [
    {
     "data": {
      "text/html": [
       "<div>\n",
       "<style scoped>\n",
       "    .dataframe tbody tr th:only-of-type {\n",
       "        vertical-align: middle;\n",
       "    }\n",
       "\n",
       "    .dataframe tbody tr th {\n",
       "        vertical-align: top;\n",
       "    }\n",
       "\n",
       "    .dataframe thead th {\n",
       "        text-align: right;\n",
       "    }\n",
       "</style>\n",
       "<table border=\"1\" class=\"dataframe\">\n",
       "  <thead>\n",
       "    <tr style=\"text-align: right;\">\n",
       "      <th></th>\n",
       "      <th>FF</th>\n",
       "    </tr>\n",
       "  </thead>\n",
       "  <tbody>\n",
       "    <tr>\n",
       "      <th>count</th>\n",
       "      <td>909.000000</td>\n",
       "    </tr>\n",
       "    <tr>\n",
       "      <th>mean</th>\n",
       "      <td>2011.656766</td>\n",
       "    </tr>\n",
       "    <tr>\n",
       "      <th>std</th>\n",
       "      <td>3.506274</td>\n",
       "    </tr>\n",
       "    <tr>\n",
       "      <th>min</th>\n",
       "      <td>2005.000000</td>\n",
       "    </tr>\n",
       "    <tr>\n",
       "      <th>25%</th>\n",
       "      <td>2009.000000</td>\n",
       "    </tr>\n",
       "    <tr>\n",
       "      <th>50%</th>\n",
       "      <td>2012.000000</td>\n",
       "    </tr>\n",
       "    <tr>\n",
       "      <th>75%</th>\n",
       "      <td>2015.000000</td>\n",
       "    </tr>\n",
       "    <tr>\n",
       "      <th>max</th>\n",
       "      <td>2017.000000</td>\n",
       "    </tr>\n",
       "  </tbody>\n",
       "</table>\n",
       "</div>"
      ],
      "text/plain": [
       "                FF\n",
       "count   909.000000\n",
       "mean   2011.656766\n",
       "std       3.506274\n",
       "min    2005.000000\n",
       "25%    2009.000000\n",
       "50%    2012.000000\n",
       "75%    2015.000000\n",
       "max    2017.000000"
      ]
     },
     "execution_count": 13,
     "metadata": {},
     "output_type": "execute_result"
    }
   ],
   "source": [
    "data.describe()"
   ]
  },
  {
   "cell_type": "markdown",
   "id": "7efdb822-35a2-4922-aca4-7a41f1e2c2cf",
   "metadata": {},
   "source": [
    "# Calculate the Length of the string in Title."
   ]
  },
  {
   "cell_type": "code",
   "execution_count": 49,
   "id": "31485840-0e9f-45d7-8af3-1ec63504a56c",
   "metadata": {},
   "outputs": [],
   "source": [
    "data[\"Title\"]=data[\"Title\"].str.len()"
   ]
  },
  {
   "cell_type": "markdown",
   "id": "d215964c-5245-4ab1-8a50-0d9b91f71a52",
   "metadata": {},
   "source": [
    "# Calculate the Length of the DIR column in dataset."
   ]
  },
  {
   "cell_type": "code",
   "execution_count": 33,
   "id": "0d3a518e-1458-415f-ae7a-407d93f56bc6",
   "metadata": {},
   "outputs": [],
   "source": [
    "data['DIR']=data[\"DIR\"].str.len()"
   ]
  },
  {
   "cell_type": "markdown",
   "id": "00a23b17-c3c7-4bb2-a594-f81c0f8a7a44",
   "metadata": {},
   "source": [
    "# Check for the Datatype after checking the Length of the Title and DIR columns."
   ]
  },
  {
   "cell_type": "code",
   "execution_count": 53,
   "id": "a96f4245-6898-454b-8b0a-34686d25f9da",
   "metadata": {},
   "outputs": [
    {
     "data": {
      "text/plain": [
       "FF        int64\n",
       "Title     int64\n",
       "DIR      object\n",
       "dtype: object"
      ]
     },
     "execution_count": 53,
     "metadata": {},
     "output_type": "execute_result"
    }
   ],
   "source": [
    "data.dtypes"
   ]
  },
  {
   "cell_type": "markdown",
   "id": "0d325ce1-ae88-4a28-87bb-f7a2221b3dd4",
   "metadata": {},
   "source": [
    "# Convert Title column back to Object format from Numeric."
   ]
  },
  {
   "cell_type": "code",
   "execution_count": 55,
   "id": "fc6460cb-b7cd-4c22-91f0-699d7531775a",
   "metadata": {},
   "outputs": [],
   "source": [
    "data[\"Title\"]= data[\"Title\"].astype(object) "
   ]
  },
  {
   "cell_type": "markdown",
   "id": "9e45b0a2-d786-4b56-baee-3c51dee07236",
   "metadata": {},
   "source": [
    "# Convert DIR column back to Object format from Numeric."
   ]
  },
  {
   "cell_type": "code",
   "execution_count": 58,
   "id": "45ea86b4-fae4-40b4-b162-c24601db8061",
   "metadata": {},
   "outputs": [],
   "source": [
    "data[\"DIR\"]= data[\"DIR\"].astype(object) "
   ]
  },
  {
   "cell_type": "markdown",
   "id": "1f37e106-1bed-47b4-b197-3a8a0c158431",
   "metadata": {},
   "source": [
    "# Checking the Datatype after converting back to Object."
   ]
  },
  {
   "cell_type": "code",
   "execution_count": 62,
   "id": "4747be28-c6d6-4419-a31f-89ecd8a4de24",
   "metadata": {},
   "outputs": [
    {
     "data": {
      "text/plain": [
       "FF        int64\n",
       "Title    object\n",
       "DIR      object\n",
       "dtype: object"
      ]
     },
     "execution_count": 62,
     "metadata": {},
     "output_type": "execute_result"
    }
   ],
   "source": [
    "data.dtypes"
   ]
  },
  {
   "cell_type": "markdown",
   "id": "d6061da2-68e2-464c-a8ea-57146bc4cddb",
   "metadata": {},
   "source": [
    "# Convert the Director's name in Upper case."
   ]
  },
  {
   "cell_type": "code",
   "execution_count": 67,
   "id": "30da0199-1b81-485d-a55d-88b325f89a7f",
   "metadata": {},
   "outputs": [
    {
     "data": {
      "text/plain": [
       "0                                      ENZO CASTELLARI\n",
       "1                                    CHRISTOPHER SMITH\n",
       "2                                         JOHN GULAGER\n",
       "3                                    ÌÐMER FARUK SORAK\n",
       "4                                         OSAMU DEZAKI\n",
       "                            ...                       \n",
       "904                                    ALBERT DUPONTEL\n",
       "905    JONAS GOVAERTS & KAAT BEELS / MALIN-SARAH GOZIN\n",
       "906                                      KAGISO LEDIGA\n",
       "907                                   ARMANDO IANNUCCI\n",
       "908                                 EDWARD D. WOOD JR.\n",
       "Name: DIR, Length: 909, dtype: object"
      ]
     },
     "execution_count": 67,
     "metadata": {},
     "output_type": "execute_result"
    }
   ],
   "source": [
    "data[\"DIR\"].astype(str).str.upper()"
   ]
  },
  {
   "cell_type": "markdown",
   "id": "2f2e4c1e-bfe7-462f-bb6f-cc752cc3b0dd",
   "metadata": {},
   "source": [
    "# Replace the & in the DIR column with and."
   ]
  },
  {
   "cell_type": "code",
   "execution_count": 74,
   "id": "d541855c-ef2d-4cb3-aa16-bea324fcc1f2",
   "metadata": {},
   "outputs": [
    {
     "data": {
      "text/plain": [
       "0                                        Enzo Castellari\n",
       "1                                      Christopher Smith\n",
       "2                                           John Gulager\n",
       "3                                      ÌÐmer Faruk Sorak\n",
       "4                                           Osamu Dezaki\n",
       "                             ...                        \n",
       "904                                      Albert Dupontel\n",
       "905    Jonas Govaerts and Kaat Beels / Malin-Sarah Gozin\n",
       "906                                        Kagiso Lediga\n",
       "907                                     Armando Iannucci\n",
       "908                                   Edward D. Wood Jr.\n",
       "Name: DIR, Length: 909, dtype: object"
      ]
     },
     "execution_count": 74,
     "metadata": {},
     "output_type": "execute_result"
    }
   ],
   "source": [
    "data[\"DIR\"].astype(str).str.replace(\"&\",\"and\")"
   ]
  },
  {
   "cell_type": "markdown",
   "id": "f94f27d4-5ae7-45a7-acc4-95c97cb5b506",
   "metadata": {},
   "source": [
    "#  Remove the white space from the Left side of the string for Director column."
   ]
  },
  {
   "cell_type": "code",
   "execution_count": 77,
   "id": "6b5fb7a7-72c6-4620-9ab5-c9bf371ec688",
   "metadata": {},
   "outputs": [
    {
     "data": {
      "text/plain": [
       "0                                      Enzo Castellari\n",
       "1                                    Christopher Smith\n",
       "2                                         John Gulager\n",
       "3                                    ÌÐmer Faruk Sorak\n",
       "4                                         Osamu Dezaki\n",
       "                            ...                       \n",
       "904                                    Albert Dupontel\n",
       "905    Jonas Govaerts & Kaat Beels / Malin-Sarah Gozin\n",
       "906                                      Kagiso Lediga\n",
       "907                                   Armando Iannucci\n",
       "908                                 Edward D. Wood Jr.\n",
       "Name: DIR, Length: 909, dtype: object"
      ]
     },
     "execution_count": 77,
     "metadata": {},
     "output_type": "execute_result"
    }
   ],
   "source": [
    "data[\"DIR\"].astype(str).str.lstrip()"
   ]
  },
  {
   "cell_type": "markdown",
   "id": "56ebdd3c-f053-41d9-851a-8a9f7dfaf96a",
   "metadata": {},
   "source": [
    "# Remove the white space from the right side of the string for Director column."
   ]
  },
  {
   "cell_type": "code",
   "execution_count": 80,
   "id": "75b0e500-9a06-4174-bd4b-babab0256001",
   "metadata": {},
   "outputs": [
    {
     "data": {
      "text/plain": [
       "0                                      Enzo Castellari\n",
       "1                                    Christopher Smith\n",
       "2                                         John Gulager\n",
       "3                                    ÌÐmer Faruk Sorak\n",
       "4                                         Osamu Dezaki\n",
       "                            ...                       \n",
       "904                                    Albert Dupontel\n",
       "905    Jonas Govaerts & Kaat Beels / Malin-Sarah Gozin\n",
       "906                                      Kagiso Lediga\n",
       "907                                   Armando Iannucci\n",
       "908                                 Edward D. Wood Jr.\n",
       "Name: DIR, Length: 909, dtype: object"
      ]
     },
     "execution_count": 80,
     "metadata": {},
     "output_type": "execute_result"
    }
   ],
   "source": [
    "data[\"DIR\"].astype(str).str.rstrip()"
   ]
  },
  {
   "cell_type": "markdown",
   "id": "ab016e48-03be-4ced-9899-9956e37e747b",
   "metadata": {},
   "source": [
    "# Show the name of director with minimum length."
   ]
  },
  {
   "cell_type": "code",
   "execution_count": 83,
   "id": "b967717a-c172-4973-a953-8447695d382a",
   "metadata": {
    "scrolled": true
   },
   "outputs": [
    {
     "data": {
      "text/plain": [
       "'    Jaume BalaguerÌ_, Paco Plaza '"
      ]
     },
     "execution_count": 83,
     "metadata": {},
     "output_type": "execute_result"
    }
   ],
   "source": [
    "data[\"DIR\"].min()"
   ]
  },
  {
   "cell_type": "markdown",
   "id": "a39ae2c7-7e8a-4aa7-891b-dfa419df2ee1",
   "metadata": {},
   "source": [
    "# Show the name of director with maximum length."
   ]
  },
  {
   "cell_type": "code",
   "execution_count": 85,
   "id": "65b25c14-21b3-409a-b985-ecce4215cc71",
   "metadata": {},
   "outputs": [
    {
     "data": {
      "text/plain": [
       "'Ì÷ystein Karlsen'"
      ]
     },
     "execution_count": 85,
     "metadata": {},
     "output_type": "execute_result"
    }
   ],
   "source": [
    "data[\"DIR\"].max()"
   ]
  },
  {
   "cell_type": "markdown",
   "id": "1c3ac9fb-26c0-447c-9a82-990c3e442178",
   "metadata": {},
   "source": [
    "# Remove the white space from the Left side of the string for Title column."
   ]
  },
  {
   "cell_type": "code",
   "execution_count": 95,
   "id": "2eaf539a-bb7c-4342-9f39-e60f064a7e65",
   "metadata": {},
   "outputs": [
    {
     "data": {
      "text/plain": [
       "0                  1990: Bronx Warriors\n",
       "1                                 Creep\n",
       "2                                 Feast\n",
       "3                              G.O.R.A.\n",
       "4      Hakugei: Legend of the Moby Dick\n",
       "                     ...               \n",
       "904                    See You Up There\n",
       "905                         Tabula Rasa\n",
       "906                              Wizard\n",
       "907                Death of Stalin, The\n",
       "908                Take It Out in Trade\n",
       "Name: Title, Length: 909, dtype: object"
      ]
     },
     "execution_count": 95,
     "metadata": {},
     "output_type": "execute_result"
    }
   ],
   "source": [
    "data[\"Title\"].astype(str).str.lstrip()"
   ]
  },
  {
   "cell_type": "markdown",
   "id": "664141b3-fbd7-4db6-a9d2-5d56e62c657a",
   "metadata": {},
   "source": [
    "# Remove the white space from the right side of the string for Title column."
   ]
  },
  {
   "cell_type": "code",
   "execution_count": 98,
   "id": "81682e68-566f-4d1a-a744-84c95fea22b9",
   "metadata": {},
   "outputs": [
    {
     "data": {
      "text/plain": [
       "0                  1990: Bronx Warriors\n",
       "1                                 Creep\n",
       "2                                 Feast\n",
       "3                              G.O.R.A.\n",
       "4      Hakugei: Legend of the Moby Dick\n",
       "                     ...               \n",
       "904                    See You Up There\n",
       "905                         Tabula Rasa\n",
       "906                              Wizard\n",
       "907                Death of Stalin, The\n",
       "908                Take It Out in Trade\n",
       "Name: Title, Length: 909, dtype: object"
      ]
     },
     "execution_count": 98,
     "metadata": {},
     "output_type": "execute_result"
    }
   ],
   "source": [
    "data[\"Title\"].astype(str).str.rstrip()"
   ]
  },
  {
   "cell_type": "markdown",
   "id": "43cc88c5-f412-40ae-82ef-da1a6cc55de7",
   "metadata": {},
   "source": [
    "# Show the title of movie with minimum length."
   ]
  },
  {
   "cell_type": "code",
   "execution_count": 101,
   "id": "a345876f-866c-4daa-8240-ab59eaba860d",
   "metadata": {},
   "outputs": [
    {
     "data": {
      "text/plain": [
       "'1%'"
      ]
     },
     "execution_count": 101,
     "metadata": {},
     "output_type": "execute_result"
    }
   ],
   "source": [
    "data[\"Title\"].min()"
   ]
  },
  {
   "cell_type": "markdown",
   "id": "b7cb6d83-c8f4-4682-b9d6-43f01cbc3504",
   "metadata": {},
   "source": [
    "# Show the title of movie with maximum length."
   ]
  },
  {
   "cell_type": "code",
   "execution_count": 104,
   "id": "43d3ba2a-b7ac-4243-826d-23a2e92a1bcf",
   "metadata": {},
   "outputs": [
    {
     "data": {
      "text/plain": [
       "'mon mon mon MONSTERS'"
      ]
     },
     "execution_count": 104,
     "metadata": {},
     "output_type": "execute_result"
    }
   ],
   "source": [
    "data[\"Title\"].max()"
   ]
  },
  {
   "cell_type": "markdown",
   "id": "191507e3-9f79-489e-9659-dfa45fa15eac",
   "metadata": {},
   "source": [
    "# Concatenate Title and directors with a space in between."
   ]
  },
  {
   "cell_type": "code",
   "execution_count": 107,
   "id": "4767486a-39e1-41fa-ba58-538db91c5d78",
   "metadata": {},
   "outputs": [
    {
     "data": {
      "text/plain": [
       "0                   1990: Bronx Warriors Enzo Castellari\n",
       "1                                Creep Christopher Smith\n",
       "2                                     Feast John Gulager\n",
       "3                             G.O.R.A. ÌÐmer Faruk Sorak\n",
       "4          Hakugei: Legend of the Moby Dick Osamu Dezaki\n",
       "                             ...                        \n",
       "904                     See You Up There Albert Dupontel\n",
       "905    Tabula Rasa Jonas Govaerts & Kaat Beels / Mali...\n",
       "906                                 Wizard Kagiso Lediga\n",
       "907                Death of Stalin, The Armando Iannucci\n",
       "908              Take It Out in Trade Edward D. Wood Jr.\n",
       "Length: 909, dtype: object"
      ]
     },
     "execution_count": 107,
     "metadata": {},
     "output_type": "execute_result"
    }
   ],
   "source": [
    "data['Title'] + ' '+ data['DIR']"
   ]
  },
  {
   "cell_type": "markdown",
   "id": "f53fb21d-b707-4019-b266-4aa62353dab1",
   "metadata": {},
   "source": [
    "# Find the Hostel movie from the Title list."
   ]
  },
  {
   "cell_type": "code",
   "execution_count": 110,
   "id": "b3712d65-4afa-4ecd-895a-a46bf71adbe4",
   "metadata": {},
   "outputs": [
    {
     "data": {
      "text/plain": [
       "0     -1\n",
       "1     -1\n",
       "2     -1\n",
       "3     -1\n",
       "4     -1\n",
       "      ..\n",
       "904   -1\n",
       "905   -1\n",
       "906   -1\n",
       "907   -1\n",
       "908   -1\n",
       "Name: Title, Length: 909, dtype: int64"
      ]
     },
     "execution_count": 110,
     "metadata": {},
     "output_type": "execute_result"
    }
   ],
   "source": [
    "data[\"Title\"].astype(str).str.find(\"Hostel\")"
   ]
  },
  {
   "cell_type": "markdown",
   "id": "0f01876f-37e7-4356-b8ae-eb2f6f22feae",
   "metadata": {},
   "source": [
    "# Find the Ryan Schifrin from the Director's list."
   ]
  },
  {
   "cell_type": "code",
   "execution_count": 113,
   "id": "15aa44ae-6edc-4a7a-a728-c0ef1921f969",
   "metadata": {},
   "outputs": [
    {
     "data": {
      "text/plain": [
       "0     -1\n",
       "1     -1\n",
       "2     -1\n",
       "3     -1\n",
       "4     -1\n",
       "      ..\n",
       "904   -1\n",
       "905   -1\n",
       "906   -1\n",
       "907   -1\n",
       "908   -1\n",
       "Name: DIR, Length: 909, dtype: int64"
      ]
     },
     "execution_count": 113,
     "metadata": {},
     "output_type": "execute_result"
    }
   ],
   "source": [
    "data[\"DIR\"].astype(str).str.find(\"Ryan Schifrin\")"
   ]
  },
  {
   "cell_type": "markdown",
   "id": "03a3d589-9b67-4041-af61-dd46504aea21",
   "metadata": {},
   "source": [
    "# Replace the space in Title name with underscore."
   ]
  },
  {
   "cell_type": "code",
   "execution_count": 116,
   "id": "202f3e9d-8344-4e1c-864a-fc1bd73d229e",
   "metadata": {},
   "outputs": [
    {
     "data": {
      "text/plain": [
       "0                  1990:_Bronx_Warriors\n",
       "1                                 Creep\n",
       "2                                 Feast\n",
       "3                              G.O.R.A.\n",
       "4      Hakugei:_Legend_of_the_Moby_Dick\n",
       "                     ...               \n",
       "904                    See_You_Up_There\n",
       "905                         Tabula_Rasa\n",
       "906                              Wizard\n",
       "907                Death_of_Stalin,_The\n",
       "908                Take_It_Out_in_Trade\n",
       "Name: Title, Length: 909, dtype: object"
      ]
     },
     "execution_count": 116,
     "metadata": {},
     "output_type": "execute_result"
    }
   ],
   "source": [
    "data['Title'].str.replace(' ', '_')"
   ]
  },
  {
   "cell_type": "markdown",
   "id": "3a7d30ab-b6db-4e4a-9d11-23a2d00d7720",
   "metadata": {},
   "source": [
    "# Replace the space in Dir name with underscore."
   ]
  },
  {
   "cell_type": "code",
   "execution_count": 119,
   "id": "d323fff3-9389-44e1-bd18-1542c42aab2c",
   "metadata": {},
   "outputs": [
    {
     "data": {
      "text/plain": [
       "0                                      Enzo_Castellari\n",
       "1                                    Christopher_Smith\n",
       "2                                         John_Gulager\n",
       "3                                    ÌÐmer_Faruk_Sorak\n",
       "4                                         Osamu_Dezaki\n",
       "                            ...                       \n",
       "904                                    Albert_Dupontel\n",
       "905    Jonas_Govaerts_&_Kaat_Beels_/_Malin-Sarah_Gozin\n",
       "906                                      Kagiso_Lediga\n",
       "907                                   Armando_Iannucci\n",
       "908                                 Edward_D._Wood_Jr.\n",
       "Name: DIR, Length: 909, dtype: object"
      ]
     },
     "execution_count": 119,
     "metadata": {},
     "output_type": "execute_result"
    }
   ],
   "source": [
    "data[\"DIR\"].str.replace(\" \",\"_\")"
   ]
  },
  {
   "cell_type": "code",
   "execution_count": null,
   "id": "f9d03b99-e230-4005-a4d5-aaf2aff7151b",
   "metadata": {},
   "outputs": [],
   "source": []
  }
 ],
 "metadata": {
  "kernelspec": {
   "display_name": "Python 3 (ipykernel)",
   "language": "python",
   "name": "python3"
  },
  "language_info": {
   "codemirror_mode": {
    "name": "ipython",
    "version": 3
   },
   "file_extension": ".py",
   "mimetype": "text/x-python",
   "name": "python",
   "nbconvert_exporter": "python",
   "pygments_lexer": "ipython3",
   "version": "3.12.4"
  }
 },
 "nbformat": 4,
 "nbformat_minor": 5
}
