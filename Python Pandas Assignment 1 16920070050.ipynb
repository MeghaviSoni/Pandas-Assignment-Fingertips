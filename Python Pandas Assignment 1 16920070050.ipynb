{
 "cells": [
  {
   "cell_type": "markdown",
   "metadata": {},
   "source": [
    "1. Add, subtract, multiple and divide two series of Pandas.\n",
    "\n",
    "Series1: [2, 4, 6, 8, 10]\n",
    "series2: [1,2,3,4,5]"
   ]
  },
  {
   "cell_type": "code",
   "execution_count": 3,
   "metadata": {},
   "outputs": [
    {
     "name": "stdout",
     "output_type": "stream",
     "text": [
      "0     3\n",
      "1     6\n",
      "2     9\n",
      "3    12\n",
      "4    15\n",
      "dtype: int64\n",
      "0    0\n",
      "1    2\n",
      "2    4\n",
      "3    6\n",
      "4    8\n",
      "dtype: int64\n",
      "0     4\n",
      "1     8\n",
      "2    12\n",
      "3    16\n",
      "4    20\n",
      "dtype: int64\n",
      "0    2.0\n",
      "1    2.0\n",
      "2    2.0\n",
      "3    2.0\n",
      "4    2.0\n",
      "dtype: float64\n"
     ]
    }
   ],
   "source": [
    "import pandas as pd \n",
    "\n",
    "s1 = pd.Series([2, 4, 6, 8, 10])\n",
    "s2 = pd.Series([1,2,3,4,5])\n",
    "\n",
    "print(s1+s2)\n",
    "print(s1-2)\n",
    "print(s1*2)\n",
    "print(s1/s2)"
   ]
  },
  {
   "cell_type": "markdown",
   "metadata": {},
   "source": [
    "2.  compare the elements of the two Pandas Series.\n",
    "\n",
    "Series1: [2, 4, 6, 8, 10]\n",
    "series2: [1,2,3,4,5]"
   ]
  },
  {
   "cell_type": "code",
   "execution_count": 13,
   "metadata": {},
   "outputs": [
    {
     "data": {
      "text/plain": [
       "0    False\n",
       "1    False\n",
       "2    False\n",
       "3    False\n",
       "4    False\n",
       "dtype: bool"
      ]
     },
     "execution_count": 13,
     "metadata": {},
     "output_type": "execute_result"
    }
   ],
   "source": [
    "s1 = pd.Series([2, 4, 6, 8, 10])\n",
    "s2 = pd.Series([1,2,3,4,5])\n",
    "\n",
    "s1==s2"
   ]
  },
  {
   "cell_type": "markdown",
   "metadata": {},
   "source": [
    "3.convert a dictionary to a Pandas series.\n",
    "\n",
    "dictionary: d1 = {'A': 5, 'B': 10, 'C':15, 'D':20, 'E':25}"
   ]
  },
  {
   "cell_type": "code",
   "execution_count": 15,
   "metadata": {},
   "outputs": [
    {
     "name": "stdout",
     "output_type": "stream",
     "text": [
      "{'A': 5, 'B': 10, 'C': 15, 'D': 20, 'E': 25}\n"
     ]
    },
    {
     "data": {
      "text/plain": [
       "A     5\n",
       "B    10\n",
       "C    15\n",
       "D    20\n",
       "E    25\n",
       "dtype: int64"
      ]
     },
     "execution_count": 15,
     "metadata": {},
     "output_type": "execute_result"
    }
   ],
   "source": [
    "d1 = {'A': 5, 'B': 10, 'C':15, 'D':20, 'E':25}\n",
    "print(d1)\n",
    "series = pd.Series(d1)\n",
    "series"
   ]
  },
  {
   "cell_type": "markdown",
   "metadata": {},
   "source": [
    "4.  convert a NumPy array to a Pandas series.\n",
    "\n",
    "\n",
    "Sample NumPy array: d1 = [10,15,20,25,30]"
   ]
  },
  {
   "cell_type": "code",
   "execution_count": 17,
   "metadata": {},
   "outputs": [
    {
     "name": "stdout",
     "output_type": "stream",
     "text": [
      "[10 15 20 25 30]\n"
     ]
    },
    {
     "data": {
      "text/plain": [
       "0    10\n",
       "1    15\n",
       "2    20\n",
       "3    25\n",
       "4    30\n",
       "dtype: int32"
      ]
     },
     "execution_count": 17,
     "metadata": {},
     "output_type": "execute_result"
    }
   ],
   "source": [
    "import numpy as np\n",
    "\n",
    "np_array = np.array([10,15,20,25,30])\n",
    "print(np_array)\n",
    "\n",
    "series = pd.Series(np_array)\n",
    "series"
   ]
  },
  {
   "cell_type": "markdown",
   "metadata": {},
   "source": [
    "5. create a sereis then  add some data to an existing Series."
   ]
  },
  {
   "cell_type": "code",
   "execution_count": 23,
   "metadata": {},
   "outputs": [
    {
     "name": "stdout",
     "output_type": "stream",
     "text": [
      "Original Series:\n",
      "0    10\n",
      "1    20\n",
      "2    30\n",
      "3    40\n",
      "dtype: int64\n"
     ]
    },
    {
     "ename": "AttributeError",
     "evalue": "'Series' object has no attribute 'append'",
     "output_type": "error",
     "traceback": [
      "\u001b[1;31m---------------------------------------------------------------------------\u001b[0m",
      "\u001b[1;31mAttributeError\u001b[0m                            Traceback (most recent call last)",
      "\u001b[1;32m~\\AppData\\Local\\Temp\\ipykernel_13220\\3599209927.py\u001b[0m in \u001b[0;36m?\u001b[1;34m()\u001b[0m\n\u001b[0;32m      9\u001b[0m \u001b[1;31m# New data to add\u001b[0m\u001b[1;33m\u001b[0m\u001b[1;33m\u001b[0m\u001b[0m\n\u001b[0;32m     10\u001b[0m \u001b[0mnew_data\u001b[0m \u001b[1;33m=\u001b[0m \u001b[1;33m[\u001b[0m\u001b[1;36m50\u001b[0m\u001b[1;33m,\u001b[0m \u001b[1;36m60\u001b[0m\u001b[1;33m]\u001b[0m\u001b[1;33m\u001b[0m\u001b[1;33m\u001b[0m\u001b[0m\n\u001b[0;32m     11\u001b[0m \u001b[1;33m\u001b[0m\u001b[0m\n\u001b[0;32m     12\u001b[0m \u001b[1;31m# Adding new data to the Series\u001b[0m\u001b[1;33m\u001b[0m\u001b[1;33m\u001b[0m\u001b[0m\n\u001b[1;32m---> 13\u001b[1;33m \u001b[0mupdated_series\u001b[0m \u001b[1;33m=\u001b[0m \u001b[0mseries\u001b[0m\u001b[1;33m.\u001b[0m\u001b[0mappend\u001b[0m\u001b[1;33m(\u001b[0m\u001b[0mpd\u001b[0m\u001b[1;33m.\u001b[0m\u001b[0mSeries\u001b[0m\u001b[1;33m(\u001b[0m\u001b[0mnew_data\u001b[0m\u001b[1;33m)\u001b[0m\u001b[1;33m,\u001b[0m \u001b[0mignore_index\u001b[0m\u001b[1;33m=\u001b[0m\u001b[1;32mTrue\u001b[0m\u001b[1;33m)\u001b[0m\u001b[1;33m\u001b[0m\u001b[1;33m\u001b[0m\u001b[0m\n\u001b[0m\u001b[0;32m     14\u001b[0m \u001b[0mprint\u001b[0m\u001b[1;33m(\u001b[0m\u001b[1;34m\"\\nUpdated Series:\"\u001b[0m\u001b[1;33m)\u001b[0m\u001b[1;33m\u001b[0m\u001b[1;33m\u001b[0m\u001b[0m\n\u001b[0;32m     15\u001b[0m \u001b[0mprint\u001b[0m\u001b[1;33m(\u001b[0m\u001b[0mupdated_series\u001b[0m\u001b[1;33m)\u001b[0m\u001b[1;33m\u001b[0m\u001b[1;33m\u001b[0m\u001b[0m\n",
      "\u001b[1;32m~\\anaconda3\\Lib\\site-packages\\pandas\\core\\generic.py\u001b[0m in \u001b[0;36m?\u001b[1;34m(self, name)\u001b[0m\n\u001b[0;32m   6295\u001b[0m             \u001b[1;32mand\u001b[0m \u001b[0mname\u001b[0m \u001b[1;32mnot\u001b[0m \u001b[1;32min\u001b[0m \u001b[0mself\u001b[0m\u001b[1;33m.\u001b[0m\u001b[0m_accessors\u001b[0m\u001b[1;33m\u001b[0m\u001b[1;33m\u001b[0m\u001b[0m\n\u001b[0;32m   6296\u001b[0m             \u001b[1;32mand\u001b[0m \u001b[0mself\u001b[0m\u001b[1;33m.\u001b[0m\u001b[0m_info_axis\u001b[0m\u001b[1;33m.\u001b[0m\u001b[0m_can_hold_identifiers_and_holds_name\u001b[0m\u001b[1;33m(\u001b[0m\u001b[0mname\u001b[0m\u001b[1;33m)\u001b[0m\u001b[1;33m\u001b[0m\u001b[1;33m\u001b[0m\u001b[0m\n\u001b[0;32m   6297\u001b[0m         \u001b[1;33m)\u001b[0m\u001b[1;33m:\u001b[0m\u001b[1;33m\u001b[0m\u001b[1;33m\u001b[0m\u001b[0m\n\u001b[0;32m   6298\u001b[0m             \u001b[1;32mreturn\u001b[0m \u001b[0mself\u001b[0m\u001b[1;33m[\u001b[0m\u001b[0mname\u001b[0m\u001b[1;33m]\u001b[0m\u001b[1;33m\u001b[0m\u001b[1;33m\u001b[0m\u001b[0m\n\u001b[1;32m-> 6299\u001b[1;33m         \u001b[1;32mreturn\u001b[0m \u001b[0mobject\u001b[0m\u001b[1;33m.\u001b[0m\u001b[0m__getattribute__\u001b[0m\u001b[1;33m(\u001b[0m\u001b[0mself\u001b[0m\u001b[1;33m,\u001b[0m \u001b[0mname\u001b[0m\u001b[1;33m)\u001b[0m\u001b[1;33m\u001b[0m\u001b[1;33m\u001b[0m\u001b[0m\n\u001b[0m",
      "\u001b[1;31mAttributeError\u001b[0m: 'Series' object has no attribute 'append'"
     ]
    }
   ],
   "source": [
    "import pandas as pd\n",
    "\n",
    "# Creating a new Series\n",
    "data = [10, 20, 30, 40]\n",
    "series = pd.Series(data)\n",
    "print(\"Original Series:\")\n",
    "print(series)\n",
    "\n",
    "# New data to add\n",
    "new_data = [50, 60]\n",
    "\n",
    "# Adding new data to the Series\n",
    "updated_series = series.append(pd.Series(new_data), ignore_index=True)\n",
    "print(\"\\nUpdated Series:\")\n",
    "print(updated_series)"
   ]
  },
  {
   "cell_type": "markdown",
   "metadata": {},
   "source": [
    "6. Find the mean and standard deviation of a given Series. \n",
    "\n",
    "series = [1,2,2,3,4,6,5,7,8,4,2,3,6,8,9,8]"
   ]
  },
  {
   "cell_type": "code",
   "execution_count": 25,
   "metadata": {},
   "outputs": [
    {
     "name": "stdout",
     "output_type": "stream",
     "text": [
      "4.875\n",
      "2.6044833140823407\n"
     ]
    }
   ],
   "source": [
    "import pandas as pd\n",
    "s = pd.Series(data = [1,2,2,3,4,6,5,7,8,4,2,3,6,8,9,8])\n",
    "\n",
    "print(s.mean())\n",
    "print(s.std())\n"
   ]
  },
  {
   "cell_type": "markdown",
   "metadata": {},
   "source": [
    "7.  create and display a DataFrame from a specified dictionary data which has the index labels.\n",
    "\n",
    "DataFrame:\n",
    "    \n",
    "student  = {'Name': ['smith', 'dona', 'Katherine', 'john', 'roman', 'ross', 'Matthew', 'joey', 'monica', 'rachel'],\n",
    "'Grade': [9, 9, 8.3, 7.3, 4, 5, 6.5, 7.9, 7.5, 8.5],\n",
    "'Country': ['USA', 'USA', 'AUS', 'USA', 'AUS', 'USA', 'Can', 'AUS', 'Can', 'yes'],\n",
    "'eligibility': ['eligible', 'eligible', 'Not eligible', 'Not eligible', 'eligible','eligible', 'eligible', 'eligible', 'Not eligible', 'Not eligible']          \n",
    "           }\n",
    "labels = ['A', 'B', 'C', 'D', 'E', 'F', 'G', 'H', 'I', 'J']"
   ]
  },
  {
   "cell_type": "code",
   "execution_count": 27,
   "metadata": {},
   "outputs": [
    {
     "name": "stdout",
     "output_type": "stream",
     "text": [
      "        Name  Grade Country   eligibility\n",
      "A      smith    9.0     USA      eligible\n",
      "B       dona    9.0     USA      eligible\n",
      "C  Katherine    8.3     AUS  Not eligible\n",
      "D       john    7.3     USA  Not eligible\n",
      "E      roman    4.0     AUS      eligible\n",
      "F       ross    5.0     USA      eligible\n",
      "G    Matthew    6.5     Can      eligible\n",
      "H       joey    7.9     AUS      eligible\n",
      "I     monica    7.5     Can  Not eligible\n",
      "J     rachel    8.5     yes  Not eligible\n"
     ]
    }
   ],
   "source": [
    "student  = {'Name': ['smith', 'dona', 'Katherine', 'john', 'roman', 'ross', 'Matthew', 'joey', 'monica', 'rachel'],\n",
    "'Grade': [9, 9, 8.3, 7.3, 4, 5, 6.5, 7.9, 7.5, 8.5],\n",
    "'Country': ['USA', 'USA', 'AUS', 'USA', 'AUS', 'USA', 'Can', 'AUS', 'Can', 'yes'],\n",
    "'eligibility': ['eligible', 'eligible', 'Not eligible', 'Not eligible', 'eligible','eligible', 'eligible', 'eligible', 'Not eligible', 'Not eligible']          \n",
    "           }\n",
    "labels = ['A', 'B', 'C', 'D', 'E', 'F', 'G', 'H', 'I', 'J']\n",
    "\n",
    "df = pd.DataFrame(student , index=labels)\n",
    "print(df)\n",
    "\n"
   ]
  },
  {
   "cell_type": "markdown",
   "metadata": {},
   "source": [
    "8.  select the 'name' and 'Grade' columns from Student dataframe (Q.7 dataframe)\n"
   ]
  },
  {
   "cell_type": "code",
   "execution_count": 29,
   "metadata": {},
   "outputs": [
    {
     "name": "stdout",
     "output_type": "stream",
     "text": [
      "        Name  Grade\n",
      "A      smith    9.0\n",
      "B       dona    9.0\n",
      "C  Katherine    8.3\n",
      "D       john    7.3\n",
      "E      roman    4.0\n",
      "F       ross    5.0\n",
      "G    Matthew    6.5\n",
      "H       joey    7.9\n",
      "I     monica    7.5\n",
      "J     rachel    8.5\n"
     ]
    }
   ],
   "source": [
    "print(df[['Name', 'Grade']])"
   ]
  },
  {
   "cell_type": "markdown",
   "metadata": {},
   "source": [
    "9. get the first 3 rows from Student dataframe (Q.7 dataframe)\n"
   ]
  },
  {
   "cell_type": "code",
   "execution_count": 31,
   "metadata": {},
   "outputs": [
    {
     "name": "stdout",
     "output_type": "stream",
     "text": [
      "        Name  Grade Country   eligibility\n",
      "A      smith    9.0     USA      eligible\n",
      "B       dona    9.0     USA      eligible\n",
      "C  Katherine    8.3     AUS  Not eligible\n"
     ]
    }
   ],
   "source": [
    "\n",
    "print(df.iloc[:3])"
   ]
  },
  {
   "cell_type": "markdown",
   "metadata": {},
   "source": [
    "10.select the rows where the number of Grade is greater than 8 from Student dataframe (Q.7 dataframe)\n",
    "\n"
   ]
  },
  {
   "cell_type": "code",
   "execution_count": 33,
   "metadata": {},
   "outputs": [
    {
     "name": "stdout",
     "output_type": "stream",
     "text": [
      "        Name  Grade Country   eligibility\n",
      "A      smith    9.0     USA      eligible\n",
      "B       dona    9.0     USA      eligible\n",
      "C  Katherine    8.3     AUS  Not eligible\n",
      "J     rachel    8.5     yes  Not eligible\n"
     ]
    }
   ],
   "source": [
    "\n",
    "print(df[df['Grade'] > 8])\n"
   ]
  },
  {
   "cell_type": "markdown",
   "metadata": {},
   "source": [
    "11. change the Grade in row D to 8.6. from Student dataframe (Q.7 dataframe)\n",
    "\n"
   ]
  },
  {
   "cell_type": "code",
   "execution_count": 35,
   "metadata": {},
   "outputs": [
    {
     "name": "stdout",
     "output_type": "stream",
     "text": [
      "        Name  Grade Country   eligibility\n",
      "A      smith    9.0     USA      eligible\n",
      "B       dona    9.0     USA      eligible\n",
      "C  Katherine    8.3     AUS  Not eligible\n",
      "D       john    8.6     USA  Not eligible\n",
      "E      roman    4.0     AUS      eligible\n",
      "F       ross    5.0     USA      eligible\n",
      "G    Matthew    6.5     Can      eligible\n",
      "H       joey    7.9     AUS      eligible\n",
      "I     monica    7.5     Can  Not eligible\n",
      "J     rachel    8.5     yes  Not eligible\n"
     ]
    }
   ],
   "source": [
    "df.loc['D', 'Grade'] = 8.6\n",
    "print(df)"
   ]
  },
  {
   "cell_type": "markdown",
   "metadata": {},
   "source": [
    "12. calculate the sum of Grade by the students. from Student dataframe (Q.7 dataframe)\n"
   ]
  },
  {
   "cell_type": "code",
   "execution_count": 37,
   "metadata": {},
   "outputs": [
    {
     "name": "stdout",
     "output_type": "stream",
     "text": [
      "74.3\n"
     ]
    }
   ],
   "source": [
    "\n",
    "print(df['Grade'].sum())"
   ]
  },
  {
   "cell_type": "markdown",
   "metadata": {},
   "source": [
    "13.  calculate the mean Grade for each different student in data frame.\n"
   ]
  },
  {
   "cell_type": "code",
   "execution_count": 39,
   "metadata": {},
   "outputs": [
    {
     "name": "stdout",
     "output_type": "stream",
     "text": [
      "7.43\n"
     ]
    }
   ],
   "source": [
    "print(df['Grade'].mean())\n"
   ]
  },
  {
   "cell_type": "markdown",
   "metadata": {},
   "source": [
    "14.  sort the data frame first by 'Name' in descending order, then by 'Grade' in ascending order.\n"
   ]
  },
  {
   "cell_type": "code",
   "execution_count": 41,
   "metadata": {},
   "outputs": [
    {
     "name": "stdout",
     "output_type": "stream",
     "text": [
      "        Name  Grade Country   eligibility\n",
      "A      smith    9.0     USA      eligible\n",
      "B       dona    9.0     USA      eligible\n",
      "C  Katherine    8.3     AUS  Not eligible\n",
      "D       john    8.6     USA  Not eligible\n",
      "E      roman    4.0     AUS      eligible\n",
      "F       ross    5.0     USA      eligible\n",
      "G    Matthew    6.5     Can      eligible\n",
      "H       joey    7.9     AUS      eligible\n",
      "I     monica    7.5     Can  Not eligible\n",
      "J     rachel    8.5     yes  Not eligible\n"
     ]
    }
   ],
   "source": [
    "df.sort_values(by=['Name', 'Grade'], ascending=[False, True])\n",
    "print(df)"
   ]
  },
  {
   "cell_type": "markdown",
   "metadata": {},
   "source": [
    "15.replace the eligibility column contains the values 'eligibility' and 'Not eligible' with YES and NO.\n"
   ]
  },
  {
   "cell_type": "code",
   "execution_count": 43,
   "metadata": {},
   "outputs": [
    {
     "name": "stdout",
     "output_type": "stream",
     "text": [
      "        Name  Grade Country eligibility\n",
      "A      smith    9.0     USA         YES\n",
      "B       dona    9.0     USA         YES\n",
      "C  Katherine    8.3     AUS          NO\n",
      "D       john    8.6     USA          NO\n",
      "E      roman    4.0     AUS         YES\n",
      "F       ross    5.0     USA         YES\n",
      "G    Matthew    6.5     Can         YES\n",
      "H       joey    7.9     AUS         YES\n",
      "I     monica    7.5     Can          NO\n",
      "J     rachel    8.5     yes          NO\n"
     ]
    }
   ],
   "source": [
    "df['eligibility'] = df['eligibility'].map({'eligible': 'YES', 'Not eligible': 'NO'})\n",
    "print(df)"
   ]
  },
  {
   "cell_type": "markdown",
   "metadata": {},
   "source": [
    "16. join the two given dataframes along rows and assign all data.\n",
    "\n",
    "(Note : Proper view for given data click on cell)\n",
    "\n",
    "Data:\n",
    "\n",
    "emp_1:\n",
    "  emp_id     name           Salary\n",
    "0   1        Same            13222\n",
    "1   2        Ross            10300\n",
    "2   3        Mike            19000\n",
    "3   4        Roman           22332\n",
    "4   5        Smith           19900\n",
    "\n",
    "\n",
    "emp_2:\n",
    "  emp_id    name          Salary\n",
    "0    6      Scarlette     12201\n",
    "1    7      Williamson    23200\n",
    "2    8      Morse         13198\n",
    "3    9      Kaiser        11219\n",
    "4    10     Preston       10201"
   ]
  },
  {
   "cell_type": "code",
   "execution_count": 45,
   "metadata": {},
   "outputs": [
    {
     "name": "stdout",
     "output_type": "stream",
     "text": [
      "Original Data\n",
      "   emp_id   name  Salary\n",
      "0       1   Same   13222\n",
      "1       2   Ross   10300\n",
      "2       3   Mike   19000\n",
      "3       4  Roman   22332\n",
      "4       5  Smith   19900\n",
      "-------------------------------------\n",
      "   emp_id        name  Salary\n",
      "0       6   Scarlette   12201\n",
      "1       7  Williamson   23200\n",
      "2       8       Morse   13198\n",
      "3       9      Kaiser   11219\n",
      "4      10     Preston   10201\n",
      "\n",
      "Join two dataframes along rows:\n",
      "   emp_id        name  Salary\n",
      "0       1        Same   13222\n",
      "1       2        Ross   10300\n",
      "2       3        Mike   19000\n",
      "3       4       Roman   22332\n",
      "4       5       Smith   19900\n",
      "0       6   Scarlette   12201\n",
      "1       7  Williamson   23200\n",
      "2       8       Morse   13198\n",
      "3       9      Kaiser   11219\n",
      "4      10     Preston   10201\n"
     ]
    }
   ],
   "source": [
    "emp_1 = pd.DataFrame({\n",
    "        'emp_id': [1, 2, 3, 4, 5],\n",
    "         'name': ['Same','Ross', 'Mike','Roman','Smith',], \n",
    "        'Salary': [13222, 10300, 19000, 22332, 19900]})\n",
    "\n",
    "emp_2 = pd.DataFrame({\n",
    "        'emp_id': [6,7,8,9,10],\n",
    "        'name': ['Scarlette', 'Williamson', 'Morse', 'Kaiser', 'Preston'], \n",
    "        'Salary': [12201, 23200, 13198, 11219, 10201]})\n",
    "\n",
    "print(\"Original Data\")\n",
    "print(emp_1)\n",
    "print(\"-------------------------------------\")\n",
    "print(emp_2)\n",
    "print(\"\\nJoin two dataframes along rows:\")\n",
    "result_data = pd.concat([emp_1, emp_2])\n",
    "print(result_data)"
   ]
  },
  {
   "cell_type": "markdown",
   "metadata": {},
   "source": [
    "17. Write a Pandas program to append given rows to an existing DataFrame emp_1 and display the combined data.\n",
    "\n",
    "data:\n",
    "emp_id                  12\n",
    "name                   mike\n",
    "Salary                 349985\n"
   ]
  },
  {
   "cell_type": "code",
   "execution_count": 47,
   "metadata": {},
   "outputs": [
    {
     "ename": "AttributeError",
     "evalue": "'DataFrame' object has no attribute 'append'",
     "output_type": "error",
     "traceback": [
      "\u001b[1;31m---------------------------------------------------------------------------\u001b[0m",
      "\u001b[1;31mAttributeError\u001b[0m                            Traceback (most recent call last)",
      "\u001b[1;32m~\\AppData\\Local\\Temp\\ipykernel_13220\\3818685582.py\u001b[0m in \u001b[0;36m?\u001b[1;34m()\u001b[0m\n\u001b[0;32m      1\u001b[0m \u001b[0ms\u001b[0m \u001b[1;33m=\u001b[0m \u001b[0mpd\u001b[0m\u001b[1;33m.\u001b[0m\u001b[0mSeries\u001b[0m\u001b[1;33m(\u001b[0m\u001b[1;33m[\u001b[0m\u001b[1;34m'12'\u001b[0m\u001b[1;33m,\u001b[0m \u001b[1;34m'Mike'\u001b[0m\u001b[1;33m,\u001b[0m \u001b[1;36m349985\u001b[0m\u001b[1;33m]\u001b[0m\u001b[1;33m,\u001b[0m \u001b[0mindex\u001b[0m\u001b[1;33m=\u001b[0m\u001b[1;33m[\u001b[0m\u001b[1;34m'emp_id'\u001b[0m\u001b[1;33m,\u001b[0m \u001b[1;34m'name'\u001b[0m\u001b[1;33m,\u001b[0m \u001b[1;34m'Salary'\u001b[0m\u001b[1;33m]\u001b[0m\u001b[1;33m)\u001b[0m\u001b[1;33m\u001b[0m\u001b[1;33m\u001b[0m\u001b[0m\n\u001b[1;32m----> 2\u001b[1;33m \u001b[0mcombined_data\u001b[0m \u001b[1;33m=\u001b[0m  \u001b[0memp_1\u001b[0m\u001b[1;33m.\u001b[0m\u001b[0mappend\u001b[0m\u001b[1;33m(\u001b[0m\u001b[0ms\u001b[0m\u001b[1;33m,\u001b[0m \u001b[0mignore_index\u001b[0m\u001b[1;33m=\u001b[0m\u001b[1;32mTrue\u001b[0m\u001b[1;33m,\u001b[0m \u001b[0msort\u001b[0m\u001b[1;33m=\u001b[0m\u001b[1;32mFalse\u001b[0m\u001b[1;33m)\u001b[0m\u001b[1;33m\u001b[0m\u001b[1;33m\u001b[0m\u001b[0m\n\u001b[0m\u001b[0;32m      3\u001b[0m \u001b[0mcombined_data\u001b[0m\u001b[1;33m\u001b[0m\u001b[1;33m\u001b[0m\u001b[0m\n",
      "\u001b[1;32m~\\anaconda3\\Lib\\site-packages\\pandas\\core\\generic.py\u001b[0m in \u001b[0;36m?\u001b[1;34m(self, name)\u001b[0m\n\u001b[0;32m   6295\u001b[0m             \u001b[1;32mand\u001b[0m \u001b[0mname\u001b[0m \u001b[1;32mnot\u001b[0m \u001b[1;32min\u001b[0m \u001b[0mself\u001b[0m\u001b[1;33m.\u001b[0m\u001b[0m_accessors\u001b[0m\u001b[1;33m\u001b[0m\u001b[1;33m\u001b[0m\u001b[0m\n\u001b[0;32m   6296\u001b[0m             \u001b[1;32mand\u001b[0m \u001b[0mself\u001b[0m\u001b[1;33m.\u001b[0m\u001b[0m_info_axis\u001b[0m\u001b[1;33m.\u001b[0m\u001b[0m_can_hold_identifiers_and_holds_name\u001b[0m\u001b[1;33m(\u001b[0m\u001b[0mname\u001b[0m\u001b[1;33m)\u001b[0m\u001b[1;33m\u001b[0m\u001b[1;33m\u001b[0m\u001b[0m\n\u001b[0;32m   6297\u001b[0m         \u001b[1;33m)\u001b[0m\u001b[1;33m:\u001b[0m\u001b[1;33m\u001b[0m\u001b[1;33m\u001b[0m\u001b[0m\n\u001b[0;32m   6298\u001b[0m             \u001b[1;32mreturn\u001b[0m \u001b[0mself\u001b[0m\u001b[1;33m[\u001b[0m\u001b[0mname\u001b[0m\u001b[1;33m]\u001b[0m\u001b[1;33m\u001b[0m\u001b[1;33m\u001b[0m\u001b[0m\n\u001b[1;32m-> 6299\u001b[1;33m         \u001b[1;32mreturn\u001b[0m \u001b[0mobject\u001b[0m\u001b[1;33m.\u001b[0m\u001b[0m__getattribute__\u001b[0m\u001b[1;33m(\u001b[0m\u001b[0mself\u001b[0m\u001b[1;33m,\u001b[0m \u001b[0mname\u001b[0m\u001b[1;33m)\u001b[0m\u001b[1;33m\u001b[0m\u001b[1;33m\u001b[0m\u001b[0m\n\u001b[0m",
      "\u001b[1;31mAttributeError\u001b[0m: 'DataFrame' object has no attribute 'append'"
     ]
    }
   ],
   "source": [
    "s = pd.Series(['12', 'Mike', 349985], index=['emp_id', 'name', 'Salary'])\n",
    "combined_data =  emp_1.append(s, ignore_index=True, sort=False)\n",
    "combined_data"
   ]
  },
  {
   "cell_type": "markdown",
   "metadata": {},
   "source": [
    "18. Write a Pandas program to append a list of dictioneries  existing DataFrame Emp_2 and display the combined data.\n",
    "\n",
    "\n",
    "Dictionary:\n",
    "\n",
    "emp_id                  11\n",
    "name                   Luis\n",
    "Salary                 22356\n"
   ]
  },
  {
   "cell_type": "code",
   "execution_count": 53,
   "metadata": {},
   "outputs": [
    {
     "name": "stdout",
     "output_type": "stream",
     "text": [
      "   emp_id        name  Salary\n",
      "0       4   Scarlette   12201\n",
      "1       5  Williamson   23200\n",
      "2       8       Morse   13198\n",
      "3       9      Kaiser   11219\n",
      "4      10     Preston   10201\n"
     ]
    },
    {
     "ename": "TypeError",
     "evalue": "DataFrame.merge() got an unexpected keyword argument 'ignore_index'",
     "output_type": "error",
     "traceback": [
      "\u001b[1;31m---------------------------------------------------------------------------\u001b[0m",
      "\u001b[1;31mTypeError\u001b[0m                                 Traceback (most recent call last)",
      "Cell \u001b[1;32mIn[53], line 5\u001b[0m\n\u001b[0;32m      1\u001b[0m dicts \u001b[38;5;241m=\u001b[39m [{\u001b[38;5;124m'\u001b[39m\u001b[38;5;124memp_id\u001b[39m\u001b[38;5;124m'\u001b[39m: \u001b[38;5;241m11\u001b[39m, \u001b[38;5;124m'\u001b[39m\u001b[38;5;124mname\u001b[39m\u001b[38;5;124m'\u001b[39m: \u001b[38;5;124m'\u001b[39m\u001b[38;5;124mLuis\u001b[39m\u001b[38;5;124m'\u001b[39m, \u001b[38;5;124m'\u001b[39m\u001b[38;5;124mSalary\u001b[39m\u001b[38;5;124m'\u001b[39m: \u001b[38;5;241m22356\u001b[39m},\n\u001b[0;32m      2\u001b[0m          ]\n\u001b[0;32m      4\u001b[0m \u001b[38;5;28mprint\u001b[39m(emp_2)\n\u001b[1;32m----> 5\u001b[0m combined_data \u001b[38;5;241m=\u001b[39m  emp_2\u001b[38;5;241m.\u001b[39mmerge(dicts, ignore_index\u001b[38;5;241m=\u001b[39m\u001b[38;5;28;01mTrue\u001b[39;00m, sort\u001b[38;5;241m=\u001b[39m\u001b[38;5;28;01mFalse\u001b[39;00m)\n\u001b[0;32m      6\u001b[0m combined_data\n",
      "\u001b[1;31mTypeError\u001b[0m: DataFrame.merge() got an unexpected keyword argument 'ignore_index'"
     ]
    }
   ],
   "source": [
    "dicts = [{'emp_id': 11, 'name': 'Luis', 'Salary': 22356},\n",
    "         ]\n",
    "\n",
    "print(emp_2)\n",
    "combined_data =  emp_2.merge(dicts, ignore_index=True, sort=False)\n",
    "combined_data"
   ]
  },
  {
   "cell_type": "markdown",
   "metadata": {},
   "source": [
    "19. Write a Pandas program to join the two dataframes using the common column of both dataframes.\n",
    "\n",
    "\n",
    "emp_1:\n",
    "  emp_id     name           Salary\n",
    "0   1        Same            13222\n",
    "1   2        Ross            10300\n",
    "2   3        Mike            19000\n",
    "3   4        Roman           22332\n",
    "4   5        Smith           19900\n",
    "\n",
    "\n",
    "emp_2:\n",
    "  emp_id    name          Salary\n",
    "0    4      Scarlette     12201\n",
    "1    5      Williamson    23200\n",
    "2    8      Morse         13198\n",
    "3    9      Kaiser        11219\n",
    "4    10     Preston       10201"
   ]
  },
  {
   "cell_type": "code",
   "execution_count": 51,
   "metadata": {},
   "outputs": [
    {
     "data": {
      "text/html": [
       "<div>\n",
       "<style scoped>\n",
       "    .dataframe tbody tr th:only-of-type {\n",
       "        vertical-align: middle;\n",
       "    }\n",
       "\n",
       "    .dataframe tbody tr th {\n",
       "        vertical-align: top;\n",
       "    }\n",
       "\n",
       "    .dataframe thead th {\n",
       "        text-align: right;\n",
       "    }\n",
       "</style>\n",
       "<table border=\"1\" class=\"dataframe\">\n",
       "  <thead>\n",
       "    <tr style=\"text-align: right;\">\n",
       "      <th></th>\n",
       "      <th>emp_id</th>\n",
       "      <th>name_x</th>\n",
       "      <th>Salary_x</th>\n",
       "      <th>name_y</th>\n",
       "      <th>Salary_y</th>\n",
       "    </tr>\n",
       "  </thead>\n",
       "  <tbody>\n",
       "    <tr>\n",
       "      <th>0</th>\n",
       "      <td>4</td>\n",
       "      <td>Roman</td>\n",
       "      <td>22332</td>\n",
       "      <td>Scarlette</td>\n",
       "      <td>12201</td>\n",
       "    </tr>\n",
       "    <tr>\n",
       "      <th>1</th>\n",
       "      <td>5</td>\n",
       "      <td>Smith</td>\n",
       "      <td>19900</td>\n",
       "      <td>Williamson</td>\n",
       "      <td>23200</td>\n",
       "    </tr>\n",
       "  </tbody>\n",
       "</table>\n",
       "</div>"
      ],
      "text/plain": [
       "   emp_id name_x  Salary_x      name_y  Salary_y\n",
       "0       4  Roman     22332   Scarlette     12201\n",
       "1       5  Smith     19900  Williamson     23200"
      ]
     },
     "execution_count": 51,
     "metadata": {},
     "output_type": "execute_result"
    }
   ],
   "source": [
    "emp_1 = pd.DataFrame({\n",
    "        'emp_id': [1, 2, 3, 4, 5],\n",
    "         'name': ['Same','Ross', 'Mike','Roman','Smith',], \n",
    "        'Salary': [13222, 10300, 19000, 22332, 19900]})\n",
    "\n",
    "emp_2 = pd.DataFrame({\n",
    "        'emp_id': [4,5,8,9,10],\n",
    "        'name': ['Scarlette', 'Williamson', 'Morse', 'Kaiser', 'Preston'], \n",
    "        'Salary': [12201, 23200, 13198, 11219, 10201]})\n",
    "\n",
    "\n",
    "merged_data = pd.merge(emp_1, emp_2, on='emp_id', how='inner')\n",
    "merged_data"
   ]
  },
  {
   "cell_type": "markdown",
   "metadata": {},
   "source": [
    "20. Write a Pandas program to join (left join) the two dataframes using keys from left dataframe only.\n",
    "\n",
    "Data:\n",
    "    \n",
    "df1: \n",
    "Year    Week    Colour    Val1 \n",
    "2020       A       Red      50\n",
    "2020       B       Red      60\n",
    "2020       B     Black      70\n",
    "2020       C       Red      10\n",
    "2020       D     Green      20\n",
    "\n",
    "df2:\n",
    "Year    Week    Colour    Val2\n",
    "2020       A     Black      30\n",
    "2020       B     Black     100\n",
    "2020       C     Green      50\n",
    "2020       C       Red      20\n",
    "2020       D       Red      40\n",
    "\n"
   ]
  },
  {
   "cell_type": "code",
   "execution_count": 55,
   "metadata": {},
   "outputs": [
    {
     "name": "stdout",
     "output_type": "stream",
     "text": [
      "Original DataFrames:\n",
      "   Year Week Colour  Val1\n",
      "0  2020    A    Red    50\n",
      "1  2020    B    Red    60\n",
      "2  2020    B  Black    70\n",
      "3  2020    C    Red    10\n",
      "4  2020    D  Green    20\n",
      "--------------------\n",
      "   Year Week Colour  Val1\n",
      "0  2020    A  Black    30\n",
      "1  2020    B  Black   100\n",
      "2  2020    C  Green    50\n",
      "3  2020    C    Red    20\n",
      "4  2020    D    Red    40\n",
      "   Year_x Week Colour  Val1_x  Year_y  Val1_y\n",
      "0    2020    A    Red      50     NaN     NaN\n",
      "1    2020    B    Red      60     NaN     NaN\n",
      "2    2020    B  Black      70  2020.0   100.0\n",
      "3    2020    C    Red      10  2020.0    20.0\n",
      "4    2020    D  Green      20     NaN     NaN\n"
     ]
    }
   ],
   "source": [
    "data1 = pd.DataFrame({'Year': [2020,2020,2020,2020,2020],\n",
    "                     'Week': ['A', 'B', 'B', 'C','D'],\n",
    "                     'Colour': ['Red', 'Red', 'Black', 'Red','Green'],\n",
    "                     'Val1': [50,60,70,10,20]}) \n",
    "\n",
    "data2 = pd.DataFrame({'Year': [2020,2020,2020,2020,2020],\n",
    "                     'Week': ['A', 'B', 'C', 'C','D'],\n",
    "                     'Colour': ['Black', 'Black', 'Green', 'Red','Red'],\n",
    "                     'Val1': [30,100,50,20,40]}) \n",
    "\n",
    "\n",
    "print(\"Original DataFrames:\")\n",
    "print(data1)\n",
    "print(\"--------------------\")\n",
    "print(data2)\n",
    "\n",
    "merged_data = pd.merge(data1, data2, how='left', on=['Week', 'Colour'])\n",
    "print(merged_data)"
   ]
  },
  {
   "cell_type": "code",
   "execution_count": null,
   "metadata": {},
   "outputs": [],
   "source": []
  },
  {
   "cell_type": "code",
   "execution_count": null,
   "metadata": {},
   "outputs": [],
   "source": []
  },
  {
   "cell_type": "code",
   "execution_count": null,
   "metadata": {},
   "outputs": [],
   "source": []
  },
  {
   "cell_type": "code",
   "execution_count": null,
   "metadata": {},
   "outputs": [],
   "source": []
  },
  {
   "cell_type": "code",
   "execution_count": null,
   "metadata": {},
   "outputs": [],
   "source": []
  },
  {
   "cell_type": "code",
   "execution_count": null,
   "metadata": {},
   "outputs": [],
   "source": []
  },
  {
   "cell_type": "code",
   "execution_count": null,
   "metadata": {},
   "outputs": [],
   "source": []
  },
  {
   "cell_type": "code",
   "execution_count": null,
   "metadata": {},
   "outputs": [],
   "source": []
  },
  {
   "cell_type": "code",
   "execution_count": null,
   "metadata": {},
   "outputs": [],
   "source": []
  },
  {
   "cell_type": "code",
   "execution_count": null,
   "metadata": {},
   "outputs": [],
   "source": []
  },
  {
   "cell_type": "code",
   "execution_count": null,
   "metadata": {},
   "outputs": [],
   "source": []
  },
  {
   "cell_type": "code",
   "execution_count": null,
   "metadata": {},
   "outputs": [],
   "source": []
  },
  {
   "cell_type": "code",
   "execution_count": null,
   "metadata": {},
   "outputs": [],
   "source": []
  },
  {
   "cell_type": "code",
   "execution_count": null,
   "metadata": {},
   "outputs": [],
   "source": []
  },
  {
   "cell_type": "code",
   "execution_count": null,
   "metadata": {},
   "outputs": [],
   "source": []
  },
  {
   "cell_type": "code",
   "execution_count": null,
   "metadata": {},
   "outputs": [],
   "source": []
  }
 ],
 "metadata": {
  "kernelspec": {
   "display_name": "Python 3 (ipykernel)",
   "language": "python",
   "name": "python3"
  },
  "language_info": {
   "codemirror_mode": {
    "name": "ipython",
    "version": 3
   },
   "file_extension": ".py",
   "mimetype": "text/x-python",
   "name": "python",
   "nbconvert_exporter": "python",
   "pygments_lexer": "ipython3",
   "version": "3.12.4"
  }
 },
 "nbformat": 4,
 "nbformat_minor": 4
}
